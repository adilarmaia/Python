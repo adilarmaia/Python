{
  "nbformat": 4,
  "nbformat_minor": 0,
  "metadata": {
    "colab": {
      "provenance": [],
      "mount_file_id": "1GI3Ux-VWX6q-pZ2yqf8FJxAZqDdPmEBS",
      "authorship_tag": "ABX9TyNa3G9FDQop5+IbhmKX0wpv",
      "include_colab_link": true
    },
    "kernelspec": {
      "name": "python3",
      "display_name": "Python 3"
    },
    "language_info": {
      "name": "python"
    }
  },
  "cells": [
    {
      "cell_type": "markdown",
      "metadata": {
        "id": "view-in-github",
        "colab_type": "text"
      },
      "source": [
        "<a href=\"https://colab.research.google.com/github/adilarmaia/Python/blob/main/Bioinform%C3%A1tica.ipynb\" target=\"_parent\"><img src=\"https://colab.research.google.com/assets/colab-badge.svg\" alt=\"Open In Colab\"/></a>"
      ]
    },
    {
      "cell_type": "markdown",
      "source": [
        "Estudos de casos : Bioinformática comparando genomas"
      ],
      "metadata": {
        "id": "GALP5HG5BF-f"
      }
    },
    {
      "cell_type": "code",
      "source": [
        "entrada = open(\"/content/drive/MyDrive/Colab Notebooks/bacteria.fasta\").read()\n",
        "saida = open(\"bacteria.html\", \"w\")\n",
        "\n",
        "cont = {}\n",
        "\n",
        "for i in ['A', 'T', 'C', 'G']:\n",
        "  for j in ['A', 'T', 'C', 'G']:\n",
        "    cont[i+j] = 0\n",
        "\n",
        "entrada = entrada.replace(\"\\n\",\"\")\n",
        "\n",
        "for k in range(len(entrada)-1):\n",
        "  cont[entrada[k]+entrada[k+1]] += 1\n",
        "\n",
        "print(cont)\n"
      ],
      "metadata": {
        "id": "E547EGBABlTY"
      },
      "execution_count": null,
      "outputs": []
    },
    {
      "cell_type": "markdown",
      "source": [
        "# Nova seção"
      ],
      "metadata": {
        "id": "2Y44tP9-B9FC"
      }
    }
  ]
}