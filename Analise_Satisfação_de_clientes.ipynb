{
  "nbformat": 4,
  "nbformat_minor": 0,
  "metadata": {
    "colab": {
      "provenance": [],
      "authorship_tag": "ABX9TyOtsYCgRZXGBkIOQ7PmrPFK",
      "include_colab_link": true
    },
    "kernelspec": {
      "name": "python3",
      "display_name": "Python 3"
    },
    "language_info": {
      "name": "python"
    }
  },
  "cells": [
    {
      "cell_type": "markdown",
      "metadata": {
        "id": "view-in-github",
        "colab_type": "text"
      },
      "source": [
        "<a href=\"https://colab.research.google.com/github/adilarmaia/Python/blob/main/Analise_Satisfa%C3%A7%C3%A3o_de_clientes.ipynb\" target=\"_parent\"><img src=\"https://colab.research.google.com/assets/colab-badge.svg\" alt=\"Open In Colab\"/></a>"
      ]
    },
    {
      "cell_type": "markdown",
      "source": [
        "PLN - Procesamento de linguagem Natural"
      ],
      "metadata": {
        "id": "kuK7UhTdbusS"
      }
    },
    {
      "cell_type": "code",
      "source": [
        "# Pacote de Implementação da Máquina Preditiva \n",
        "import streamlit as st\n",
        "# Pacote de PNL - NLTK - Natural Language Tool Kit\n",
        "import nltk"
      ],
      "metadata": {
        "id": "JpNrE_P3cI_A"
      },
      "execution_count": null,
      "outputs": []
    },
    {
      "cell_type": "markdown",
      "source": [
        "# 3 Fases:\n",
        "> 1° Criação do sistema \n",
        "\n",
        "> 2° Criar a MP/NPL  \n",
        "\n",
        "> 3° Utilização do sistema"
      ],
      "metadata": {
        "id": "Xvs52SBHdU2R"
      }
    },
    {
      "cell_type": "markdown",
      "source": [
        "Fase 1"
      ],
      "metadata": {
        "id": "aB_bNrVNfkap"
      }
    },
    {
      "cell_type": "code",
      "source": [
        "# Titulo do sistema\n",
        "st.write(\"Analise de Satisfação do Cliente\")\n",
        "# Entrada de dados - A manifestação do Cliente\n",
        "user_input = st.text_input(\"Por Favor, avalie o nosso atendimento : \")\n"
      ],
      "metadata": {
        "id": "rjHtA3a4dqve"
      },
      "execution_count": null,
      "outputs": []
    },
    {
      "cell_type": "markdown",
      "source": [
        "Fase 2"
      ],
      "metadata": {
        "id": "OiJefBfogfrU"
      }
    },
    {
      "cell_type": "code",
      "source": [
        "# Criação da Máquina Preditiva de Satisfação do Cliente\n",
        "from nltk.sentiment.vader import SentimentIntensityAnalyzer\n",
        "nltk.download(\"vader_lexicon\")\n",
        "s = SentimentIntensityAnalyzer()\n",
        "score = s.polarity_scores(user_input)\n",
        "\n",
        "# Refinamento\n",
        "if score == 0:\n",
        "  st.write(\" \")\n",
        "\n",
        "elif score [\"neg\"] != 0:\n",
        "  st.write(\"Analize Negativa\")\n",
        "\n",
        "elif score [\"pos\"] != 0:\n",
        "  st.write(\"Analize Positiva\")\n"
      ],
      "metadata": {
        "id": "MIfj3EtXgiT4"
      },
      "execution_count": null,
      "outputs": []
    }
  ]
}